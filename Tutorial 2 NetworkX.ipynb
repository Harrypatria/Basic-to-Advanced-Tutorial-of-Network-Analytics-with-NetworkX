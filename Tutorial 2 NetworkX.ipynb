{
 "cells": [
  {
   "cell_type": "markdown",
   "metadata": {},
   "source": [
    "This tutorial gives you an idea about centrality with Networkx. Some other exercises such as file IO with Excel, eigenvector centrality and page rank are also covered.  \n",
    "\n",
    "Before the start of writing any codes, it is important to load the approiate libraries with the following commands. Note that libraries loading must be placed at the top.\n",
    "\n",
    "Before the start of writing any codes, it is important to load the approiate libraries with the following commands. Note that libraries loading must be placed at the top."
   ]
  },
  {
   "cell_type": "code",
   "execution_count": null,
   "metadata": {},
   "outputs": [],
   "source": [
    "# Import networkx library and rename it as nx. \n",
    "\n",
    "\n",
    "# Adding support for high-performance, easy-to-use data structures and data analysis tools\n",
    "\n",
    "\n",
    "# Adding support for large, multi-dimensional arrays and matrices.\n",
    "\n",
    "\n",
    "# Import linalg for Linear algebra\n",
    "from scipy import\n",
    "\n",
    "# Import eigsh for the calculation of eigen-value\n",
    "from scipy.sparse.linalg import \n",
    "\n",
    "import matplotlib.pyplot as plt\n",
    "import operator\n",
    "import sys"
   ]
  },
  {
   "cell_type": "markdown",
   "metadata": {},
   "source": [
    "# Part 1: Centrality Calculation\n",
    "\n",
    "We read the graph from file 'centrality_example.txt' and express the graph using Networkx library. Then the graph is displayed on the screen for better illustration."
   ]
  },
  {
   "cell_type": "code",
   "execution_count": null,
   "metadata": {},
   "outputs": [],
   "source": [
    "# Put the path of the folder that contains the data file.\n",
    "place_holder = \n",
    "\n",
    "# Create an empty graph structure with no nodes and no edges.\n",
    "G0 = nx.Graph()\n",
    "# Read an un-directed graph from a list of edges\n",
    "G0 = nx.read_edgelist(place_holder + , nodetype = )\n",
    "\n",
    "# draw the graph to provide a better illustration\n",
    "nx.draw_random(G0, )"
   ]
  },
  {
   "cell_type": "markdown",
   "metadata": {},
   "source": [
    "### Exercise: Degree centrality & Betweenness centrality\n",
    "\n",
    "To calculate them, we can use the built-in functions in the networkx library."
   ]
  },
  {
   "cell_type": "code",
   "execution_count": null,
   "metadata": {},
   "outputs": [],
   "source": [
    "# the function degree_centrality(G) is available in networkx.algorithms.centrality\n",
    "deg_cent = nx.#(**write here)\n",
    "\n",
    "# The output is dictionary of nodes with degree centrality as the value\n",
    "print(\"Degree centrality:\")\n",
    "print(deg_cent)"
   ]
  },
  {
   "cell_type": "code",
   "execution_count": null,
   "metadata": {},
   "outputs": [],
   "source": [
    "# the function betweenness_centrality(G) is also available in networkx.algorithms.centrality\n",
    "bet_cent = nx.#(**write here)\n",
    "\n",
    "print(\"Betweenness centrality:\")\n",
    "print(bet_cent)"
   ]
  },
  {
   "cell_type": "markdown",
   "metadata": {},
   "source": [
    "# Part 2: Excel IO and eigenvector centrality (Similar to 4.3)\n",
    "\n",
    "### (a) Load the zachary karate club information from an Excel file.\n",
    "\n",
    "The data file is called \"zachary_karate_club.xlsx\"."
   ]
  },
  {
   "cell_type": "code",
   "execution_count": null,
   "metadata": {},
   "outputs": [],
   "source": [
    "# The file name\n",
    "excelfile = "
   ]
  },
  {
   "cell_type": "markdown",
   "metadata": {},
   "source": [
    "Next, we have to read the Excel file using Pandas."
   ]
  },
  {
   "cell_type": "code",
   "execution_count": null,
   "metadata": {},
   "outputs": [],
   "source": [
    "# Read the sheet 'T2-sheet-A' and T2-sheet-B\n",
    "sheetA = pd.read_excel(excelfile, )\n",
    "sheetB = pd.read_excel(excelfile, )\n",
    "\n",
    "print(\"First Dataframe:\")\n",
    "print(sheetA)\n",
    "print(\"Second Dataframe:\")\n",
    "print(sheetB)"
   ]
  },
  {
   "cell_type": "code",
   "execution_count": null,
   "metadata": {},
   "outputs": [],
   "source": [
    "# Then we concatenate the 2 dataframes\n",
    "total = pd.concat()\n",
    "\n",
    "# Print the matrix and the matrix size\n",
    "print(total)"
   ]
  },
  {
   "cell_type": "markdown",
   "metadata": {},
   "source": [
    "### (b) Exercise: We read the edgelist information, create an adjacency matrix, and calculate its eigenvalues and eigenvectors."
   ]
  },
  {
   "cell_type": "code",
   "execution_count": null,
   "metadata": {},
   "outputs": [],
   "source": [
    "# Create a direct graph based on the dataframe format\n",
    "G_zachary = nx.from_pandas_edgelist(#(**write here), #(**write here), #(**write here), create_using = nx.Graph())\n",
    "\n",
    "print(\"The edgelist for Zachary Karate Club\")\n",
    "nx.write_weighted_edgelist(#(**write here), sys.stdout)"
   ]
  },
  {
   "cell_type": "markdown",
   "metadata": {},
   "source": [
    "### (c) Exercise: We now convert the edgelist into an adjacency matrix and calculate the eigenvalue."
   ]
  },
  {
   "cell_type": "code",
   "execution_count": null,
   "metadata": {},
   "outputs": [],
   "source": [
    "# convert to adjacency matrix\n",
    "attr_mat_zachary = nx.attr_matrix(#(**write here), rc_order = sorted(#(**write here)).astype(float)\n",
    "\n",
    "# the eigenvalues can be calculated using eigsh since we know the adjacency matrix must be symmetry \n",
    "evalue, evector = eigsh(attr_mat_zachary)\n",
    "\n",
    "# Get the largest and smallest eigenvalues, and the corresponding index from the returned values\n",
    "maxindex, maxvalue = #(**write here)\n",
    "minindex, minvalue = #(**write here)\n",
    "\n",
    "# Since the adjacency matrix must be a square matrix, the eigenvalue and vector will not be complex\n",
    "print(\"Largest eigenvalue:\", maxvalue)\n",
    "print(\"Smallest eigenvalue:\", minvalue)\n",
    "\n",
    "\n",
    "print(\"Largest eigenvector:\", evector[:, maxindex])\n",
    "print(\"Smallest eigenvector:\", evector[:, minindex])"
   ]
  },
  {
   "cell_type": "code",
   "execution_count": null,
   "metadata": {},
   "outputs": [],
   "source": []
  },
  {
   "cell_type": "markdown",
   "metadata": {},
   "source": [
    "### (d) Finally, we use the eigenvector_centrality_numpy() from numpy to calcuate the eigenvector based centralities for comparison."
   ]
  },
  {
   "cell_type": "code",
   "execution_count": null,
   "metadata": {},
   "outputs": [],
   "source": [
    "nx.#(**write here)"
   ]
  },
  {
   "cell_type": "markdown",
   "metadata": {},
   "source": [
    "You can refer to networkx website for more relevant functions to calculate centrality.\n",
    "\n",
    "https://networkx.github.io/documentation/networkx-1.10/reference/algorithms.centrality.html"
   ]
  },
  {
   "cell_type": "markdown",
   "metadata": {},
   "source": [
    "# Part 3: Page Rank Calculation (Similar to 4.6)\n",
    "\n",
    "### Exercise: (a) We read the page rank network from the file 'page_rank_network.txt' and create an adjacency matrix accordingly."
   ]
  },
  {
   "cell_type": "code",
   "execution_count": null,
   "metadata": {},
   "outputs": [],
   "source": [
    "# Use fixed-point instead of floating point in numpy\n",
    "np.set_printoptions(suppress = True)\n",
    "\n",
    "# Read an un-directed graph from a list of edges\n",
    "G = nx.read_edgelist(place_holder + #(**write here), #(**write here), create_using = nx.DiGraph())\n",
    "\n",
    "# output the edgelist onto the screen\n",
    "nx.write_weighted_edgelist(G, sys.stdout)"
   ]
  },
  {
   "cell_type": "code",
   "execution_count": null,
   "metadata": {},
   "outputs": [],
   "source": [
    "# create an adjacency matrix based on the un-directed graph\n",
    "attr_mat = nx.attr_matrix(G,rc_order = sorted(G.nodes(), key=str))\n",
    "print(attr_mat)"
   ]
  },
  {
   "cell_type": "markdown",
   "metadata": {},
   "source": [
    "### Exercise: (b) Calculate the stochastic matrix and its transpose."
   ]
  },
  {
   "cell_type": "code",
   "execution_count": null,
   "metadata": {},
   "outputs": [],
   "source": [
    "# get the weight matrix (stochastic matrices) W, axis = 1 says \"get the sum along the columns\"\n",
    "weight_mat = #(**write here)\n",
    "print(\"The Weight matrix\")\n",
    "print(weight_mat)\n",
    "\n",
    "# print an extra line for easier display\n",
    "print('\\n')\n",
    "\n",
    "print(\"The transpose of the Weight matrix\")\n",
    "print(weight_mat.#(**write here))"
   ]
  },
  {
   "cell_type": "markdown",
   "metadata": {},
   "source": [
    "### Exercise: (c) Calcuate the eigen-vector using power method."
   ]
  },
  {
   "cell_type": "markdown",
   "metadata": {},
   "source": [
    "First, we create and initalize a starting vector for it to iterate on."
   ]
  },
  {
   "cell_type": "code",
   "execution_count": null,
   "metadata": {},
   "outputs": [],
   "source": [
    "# Create a vector of given shape/dimension, filled with ones,\n",
    "# then we multiply the the vector with 100\n",
    "num_row = attr_mat.shape[0]\n",
    "\n",
    "# fill with one in a column vector\n",
    "r = #(**write here)\n",
    "\n",
    "print(\"The starting vector\")\n",
    "print(r)"
   ]
  },
  {
   "cell_type": "markdown",
   "metadata": {},
   "source": [
    "Next, we use a while loop to implement power method that calculates page rank for directed graph. \n",
    "\n",
    "Basically, we want calculate r_(k+1)=transpose(W) x r_(k) 􏰆until is result is converged. We write the power method with a function."
   ]
  },
  {
   "cell_type": "code",
   "execution_count": null,
   "metadata": {},
   "outputs": [],
   "source": [
    "# Import linalg for Linear algebra\n",
    "from scipy import linalg\n",
    "\n",
    "\"\"\"\n",
    "This function implements power method.\n",
    "\n",
    "Args:\n",
    "    weight_mat: The weight matrix.\n",
    "    r: The starting vector.\n",
    "\n",
    "Returns:\n",
    "    Null\n",
    "\"\"\"\n",
    "\n",
    "def power_method(weight_mat, r):\n",
    "\n",
    "    # Initalize the boolean converged\n",
    "    converged = #(**write here)\n",
    "\n",
    "    # Mark the number of iteration as zero at the begining\n",
    "    numIter = #(**write here)\n",
    "\n",
    "    while not converged:\n",
    "\n",
    "        # calculate transpose(W) . r_(k)\n",
    "        r_new = #(**write here)\n",
    "\n",
    "        # Calculate the different between the previous r and the r from this iteration\n",
    "        # by taking the norm\n",
    "        if (linalg.norm(r-r_new) < 0.0001):\n",
    "            converged = #(**write here)\n",
    "        else:\n",
    "            numIter #(**write here)\n",
    "            r = #(**write here)\n",
    "\n",
    "    print(\"The number of iteration needed: \", end = '')\n",
    "    print(numIter)\n",
    "\n",
    "    print(\"The converged r\")\n",
    "    print(r)\n",
    "    \n",
    "power_method(weight_mat, r)"
   ]
  },
  {
   "cell_type": "code",
   "execution_count": null,
   "metadata": {},
   "outputs": [],
   "source": []
  }
 ],
 "metadata": {
  "kernelspec": {
   "display_name": "Python 3",
   "language": "python",
   "name": "python3"
  },
  "language_info": {
   "codemirror_mode": {
    "name": "ipython",
    "version": 3
   },
   "file_extension": ".py",
   "mimetype": "text/x-python",
   "name": "python",
   "nbconvert_exporter": "python",
   "pygments_lexer": "ipython3",
   "version": "3.6.8"
  }
 },
 "nbformat": 4,
 "nbformat_minor": 2
}
