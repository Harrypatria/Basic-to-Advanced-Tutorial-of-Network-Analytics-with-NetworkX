{
 "cells": [
  {
   "cell_type": "markdown",
   "metadata": {},
   "source": [
    "This tutorial gives you an idea about centrality with Networkx. Some other exercises such as file IO with Excel, eigenvector centrality and page rank are also covered.  \n",
    "\n",
    "Before the start of writing any codes, it is important to load the approiate libraries with the following commands. Note that libraries loading must be placed at the top.\n",
    "\n",
    "Before the start of writing any codes, it is important to load the approiate libraries with the following commands. Note that libraries loading must be placed at the top."
   ]
  },
  {
   "cell_type": "code",
   "execution_count": 3,
   "metadata": {},
   "outputs": [],
   "source": [
    "# Import networkx library and rename it as nx. \n",
    "import networkx as nx\n",
    "\n",
    "# Adding support for high-performance, easy-to-use data structures and data analysis tools\n",
    "import pandas as pd\n",
    "\n",
    "# Adding support for large, multi-dimensional arrays and matrices.\n",
    "import numpy as np\n",
    "\n",
    "# Import linalg for Linear algebra\n",
    "from scipy import linalg\n",
    "\n",
    "# Import eigsh for the calculation of eigen-value\n",
    "from scipy.sparse.linalg import eigsh\n",
    "\n",
    "import matplotlib.pyplot as plt\n",
    "import operator\n",
    "import sys"
   ]
  },
  {
   "cell_type": "markdown",
   "metadata": {},
   "source": [
    "# Part 1: Centrality Calculation\n",
    "\n",
    "We read the graph from file 'centrality_example.txt' and express the graph using Networkx library. Then the graph is displayed on the screen for better illustration."
   ]
  },
  {
   "cell_type": "code",
   "execution_count": 6,
   "metadata": {},
   "outputs": [
    {
     "data": {
      "image/png": "[encoded data removed]",
      "text/plain": [
       "<Figure size 432x288 with 1 Axes>"
      ]
     },
     "metadata": {},
     "output_type": "display_data"
    }
   ],
   "source": [
    "# Put the path of the folder that contains the data file.\n",
    "place_holder = \"./\"\n",
    "\n",
    "# Create an empty graph structure with no nodes and no edges.\n",
    "G0 = nx.Graph()\n",
    "# Read an un-directed graph from a list of edges\n",
    "G0 = nx.read_edgelist(place_holder + \"centrality_example.txt\", nodetype = str)\n",
    "\n",
    "# draw the graph to provide a better illustration\n",
    "nx.draw_spring(G0, with_labels = True)"
   ]
  },
  {
   "cell_type": "markdown",
   "metadata": {},
   "source": [
    "### Exercise: Degree centrality & Betweenness centrality\n",
    "\n",
    "To calculate them, we can use the built-in functions in the networkx library."
   ]
  },
  {
   "cell_type": "code",
   "execution_count": 7,
   "metadata": {},
   "outputs": [
    {
     "name": "stdout",
     "output_type": "stream",
     "text": [
      "Degree centrality:\n",
      "{'a': 0.3333333333333333, 'b': 0.8333333333333333, 'e': 0.5, 'c': 0.6666666666666666, 'd': 0.5, 'f': 0.3333333333333333, 'g': 0.5}\n"
     ]
    }
   ],
   "source": [
    "# the function degree_centrality(G) is available in networkx.algorithms.centrality\n",
    "deg_cent = nx.algorithms.centrality.degree_centrality(G0)\n",
    "\n",
    "# The output is dictionary of nodes with degree centrality as the value\n",
    "print(\"Degree centrality:\")\n",
    "print(deg_cent)"
   ]
  },
  {
   "cell_type": "code",
   "execution_count": 8,
   "metadata": {},
   "outputs": [
    {
     "data": {
      "text/plain": [
       "[('a', 0.3333333333333333),\n",
       " ('b', 0.8333333333333334),\n",
       " ('e', 0.5),\n",
       " ('c', 0.6666666666666666),\n",
       " ('d', 0.5),\n",
       " ('f', 0.3333333333333333),\n",
       " ('g', 0.5)]"
      ]
     },
     "execution_count": 8,
     "metadata": {},
     "output_type": "execute_result"
    }
   ],
   "source": [
    "degree = [(u[0],u[1]/(G0.number_of_nodes()-1)) for u in list(G0.degree())]\n",
    "degree"
   ]
  },
  {
   "cell_type": "code",
   "execution_count": 9,
   "metadata": {},
   "outputs": [
    {
     "name": "stdout",
     "output_type": "stream",
     "text": [
      "Betweenness centrality:\n",
      "{'a': 0.05, 'b': 0.3111111111111111, 'e': 0.03888888888888889, 'c': 0.23888888888888887, 'd': 0.02222222222222222, 'f': 0.03333333333333333, 'g': 0.03888888888888889}\n"
     ]
    }
   ],
   "source": [
    "# the function betweenness_centrality(G) is also available in networkx.algorithms.centrality\n",
    "bet_cent = nx.algorithms.centrality.betweenness_centrality(G0)\n",
    "\n",
    "print(\"Betweenness centrality:\")\n",
    "print(bet_cent)"
   ]
  },
  {
   "cell_type": "markdown",
   "metadata": {},
   "source": [
    "# Part 2: Excel IO and eigenvector centrality (Similar to 4.3)\n",
    "\n",
    "### (a) Load the zachary karate club information from an Excel file.\n",
    "\n",
    "The data file is called \"zachary_karate_club.xlsx\"."
   ]
  },
  {
   "cell_type": "code",
   "execution_count": 10,
   "metadata": {},
   "outputs": [],
   "source": [
    "# The file name\n",
    "excelfile = \"zachary_karate_club.xlsx\""
   ]
  },
  {
   "cell_type": "markdown",
   "metadata": {},
   "source": [
    "Next, we have to read the Excel file using Pandas."
   ]
  },
  {
   "cell_type": "code",
   "execution_count": 11,
   "metadata": {},
   "outputs": [
    {
     "name": "stdout",
     "output_type": "stream",
     "text": [
      "First Dataframe:\n",
      "    From  To\n",
      "0      0   1\n",
      "1      0   2\n",
      "2      0   3\n",
      "3      0   4\n",
      "4      0   5\n",
      "5      0   6\n",
      "6      0   7\n",
      "7      0   8\n",
      "8      0   9\n",
      "9      0  10\n",
      "10     0  11\n",
      "11     0  12\n",
      "12     0  13\n",
      "13     0  14\n",
      "14     0  15\n",
      "15     0  16\n",
      "16     1   2\n",
      "17     1   3\n",
      "18     1   7\n",
      "19    12   1\n",
      "20    13   1\n",
      "21     1  14\n",
      "22     1  15\n",
      "23     1  17\n",
      "24     2   3\n",
      "25     2   7\n",
      "26     2   8\n",
      "27    18   2\n",
      "28    12   2\n",
      "29    19   2\n",
      "30    20   2\n",
      "31     2  21\n",
      "32     3   7\n",
      "33    11   3\n",
      "34    12   3\n",
      "35     4   6\n",
      "36     9   4\n",
      "37     5   6\n",
      "38     9   5\n",
      "39    22   5\n",
      "40    22   6\n",
      "41    17   8\n",
      "42    21   8\n",
      "43    23   8\n",
      "44    18  23\n",
      "45    12  23\n",
      "46    24  21\n",
      "47    24  23\n",
      "48    25  21\n",
      "Second Dataframe:\n",
      "    From  To\n",
      "0     25  23\n",
      "1     26  21\n",
      "2     26  23\n",
      "3     14  23\n",
      "4     27  21\n",
      "5     27  23\n",
      "6     28  21\n",
      "7     28  23\n",
      "8     29  30\n",
      "9     29  19\n",
      "10    29  31\n",
      "11    29  21\n",
      "12    29  23\n",
      "13    32  30\n",
      "14    32  19\n",
      "15    32  16\n",
      "16    30  16\n",
      "17    33  31\n",
      "18    33  23\n",
      "19    19  23\n",
      "20    20  16\n",
      "21    20  23\n",
      "22    31  21\n",
      "23    31  23\n",
      "24    17  21\n",
      "25    17  23\n",
      "26    16  21\n",
      "27    16  23\n",
      "28    21  23\n"
     ]
    }
   ],
   "source": [
    "# Read the sheet 'T2-sheet-A' and T2-sheet-B\n",
    "sheetA = pd.read_excel(excelfile, sheet_name = \"T2A\", usecols = \"A:B\")\n",
    "sheetB = pd.read_excel(excelfile, sheet_name = \"T2B\", usecols = \"A:B\")\n",
    "\n",
    "print(\"First Dataframe:\")\n",
    "print(sheetA)\n",
    "print(\"Second Dataframe:\")\n",
    "print(sheetB)"
   ]
  },
  {
   "cell_type": "code",
   "execution_count": 12,
   "metadata": {},
   "outputs": [
    {
     "name": "stdout",
     "output_type": "stream",
     "text": [
      "    From  To\n",
      "0      0   1\n",
      "1      0   2\n",
      "2      0   3\n",
      "3      0   4\n",
      "4      0   5\n",
      "5      0   6\n",
      "6      0   7\n",
      "7      0   8\n",
      "8      0   9\n",
      "9      0  10\n",
      "10     0  11\n",
      "11     0  12\n",
      "12     0  13\n",
      "13     0  14\n",
      "14     0  15\n",
      "15     0  16\n",
      "16     1   2\n",
      "17     1   3\n",
      "18     1   7\n",
      "19    12   1\n",
      "20    13   1\n",
      "21     1  14\n",
      "22     1  15\n",
      "23     1  17\n",
      "24     2   3\n",
      "25     2   7\n",
      "26     2   8\n",
      "27    18   2\n",
      "28    12   2\n",
      "29    19   2\n",
      "..   ...  ..\n",
      "48    25  21\n",
      "49    25  23\n",
      "50    26  21\n",
      "51    26  23\n",
      "52    14  23\n",
      "53    27  21\n",
      "54    27  23\n",
      "55    28  21\n",
      "56    28  23\n",
      "57    29  30\n",
      "58    29  19\n",
      "59    29  31\n",
      "60    29  21\n",
      "61    29  23\n",
      "62    32  30\n",
      "63    32  19\n",
      "64    32  16\n",
      "65    30  16\n",
      "66    33  31\n",
      "67    33  23\n",
      "68    19  23\n",
      "69    20  16\n",
      "70    20  23\n",
      "71    31  21\n",
      "72    31  23\n",
      "73    17  21\n",
      "74    17  23\n",
      "75    16  21\n",
      "76    16  23\n",
      "77    21  23\n",
      "\n",
      "[78 rows x 2 columns]\n"
     ]
    }
   ],
   "source": [
    "# Then we concatenate the 2 dataframes\n",
    "total = pd.concat([sheetA,sheetB], ignore_index = True)\n",
    "\n",
    "# Print the matrix and the matrix size\n",
    "print(total)"
   ]
  },
  {
   "cell_type": "markdown",
   "metadata": {},
   "source": [
    "### (b) Exercise: We read the edgelist information, create an adjacency matrix, and calculate its eigenvalues and eigenvectors."
   ]
  },
  {
   "cell_type": "code",
   "execution_count": 13,
   "metadata": {},
   "outputs": [
    {
     "data": {
      "image/png": "[encoded data removed]",
      "text/plain": [
       "<Figure size 432x288 with 1 Axes>"
      ]
     },
     "metadata": {},
     "output_type": "display_data"
    }
   ],
   "source": [
    "# Create a direct graph based on the dataframe format\n",
    "G_zachary = nx.from_pandas_edgelist(total, \"From\", \"To\", create_using = nx.Graph())\n",
    "\n",
    "nx.draw(G_zachary, with_labels = True)"
   ]
  },
  {
   "cell_type": "markdown",
   "metadata": {},
   "source": [
    "### (c) Exercise: We now convert the edgelist into an adjacency matrix and calculate the eigenvalue."
   ]
  },
  {
   "cell_type": "code",
   "execution_count": 14,
   "metadata": {},
   "outputs": [
    {
     "name": "stdout",
     "output_type": "stream",
     "text": [
      "Largest eigenvalue: 6.725697727631727\n",
      "Largest eigenvector: [-0.35549144 -0.26595992 -0.3171925  -0.21117972 -0.07596882 -0.07948305\n",
      " -0.07948305 -0.17095975 -0.22740391 -0.07596882 -0.0528557  -0.08425463\n",
      " -0.22647272 -0.09239954 -0.14791251 -0.09239954 -0.19103384 -0.1747583\n",
      " -0.10267425 -0.13347715 -0.13107782 -0.30864422 -0.02363563 -0.37336347\n",
      " -0.10140326 -0.10140326 -0.10140326 -0.10140326 -0.10140326 -0.15011857\n",
      " -0.05920647 -0.13496082 -0.05705244 -0.07557941]\n"
     ]
    }
   ],
   "source": [
    "# convert to adjacency matrix\n",
    "attr_mat_zachary = nx.to_numpy_array(G_zachary)\n",
    "\n",
    "# the eigenvalues can be calculated using eigsh since we know the adjacency matrix must be symmetry \n",
    "evalue, evector = eigsh(attr_mat_zachary)\n",
    "\n",
    "# Get the largest and smallest eigenvalues, and the corresponding index from the returned values\n",
    "maxindex, maxvalue = np.argmax(evalue), evalue[np.argmax(evalue)]\n",
    "\n",
    "# Since the adjacency matrix must be a square matrix, the eigenvalue and vector will not be complex\n",
    "print(\"Largest eigenvalue:\", maxvalue)\n",
    "\n",
    "print(\"Largest eigenvector:\", evector[:, maxindex])\n"
   ]
  },
  {
   "cell_type": "code",
   "execution_count": 15,
   "metadata": {},
   "outputs": [
    {
     "data": {
      "text/plain": [
       "array([0.35549144, 0.26595992, 0.3171925 , 0.21117972, 0.07596882,\n",
       "       0.07948305, 0.07948305, 0.17095975, 0.22740391, 0.07596882,\n",
       "       0.0528557 , 0.08425463, 0.22647272, 0.09239954, 0.14791251,\n",
       "       0.09239954, 0.19103384, 0.1747583 , 0.10267425, 0.13347715,\n",
       "       0.13107782, 0.30864422, 0.02363563, 0.37336347, 0.10140326,\n",
       "       0.10140326, 0.10140326, 0.10140326, 0.10140326, 0.15011857,\n",
       "       0.05920647, 0.13496082, 0.05705244, 0.07557941])"
      ]
     },
     "execution_count": 15,
     "metadata": {},
     "output_type": "execute_result"
    }
   ],
   "source": [
    "eigenvector_centrality = abs(evector[:, maxindex])\n",
    "eigenvector_centrality"
   ]
  },
  {
   "cell_type": "markdown",
   "metadata": {},
   "source": [
    "### (d) Finally, we use the eigenvector_centrality_numpy() from numpy to calcuate the eigenvector based centralities for comparison."
   ]
  },
  {
   "cell_type": "code",
   "execution_count": 16,
   "metadata": {},
   "outputs": [
    {
     "data": {
      "text/plain": [
       "{0: 0.35549144452456627,\n",
       " 1: 0.2659599195524914,\n",
       " 2: 0.31719250448643166,\n",
       " 3: 0.2111797203778902,\n",
       " 4: 0.07596881818306854,\n",
       " 5: 0.07948304511709915,\n",
       " 6: 0.07948304511709904,\n",
       " 7: 0.17095974804479622,\n",
       " 8: 0.2274039071254002,\n",
       " 9: 0.07596881818306858,\n",
       " 10: 0.05285569749352118,\n",
       " 11: 0.08425462871671359,\n",
       " 12: 0.22647272014248118,\n",
       " 13: 0.09239953819570246,\n",
       " 14: 0.1479125102933876,\n",
       " 15: 0.09239953819570255,\n",
       " 16: 0.19103384140654378,\n",
       " 17: 0.17475830231435321,\n",
       " 18: 0.10267425072358637,\n",
       " 19: 0.13347715338024033,\n",
       " 20: 0.13107782298371098,\n",
       " 21: 0.3086442197910475,\n",
       " 22: 0.023635628104591067,\n",
       " 23: 0.3733634702914832,\n",
       " 24: 0.10140326218952476,\n",
       " 25: 0.10140326218952468,\n",
       " 26: 0.10140326218952478,\n",
       " 27: 0.1014032621895247,\n",
       " 28: 0.10140326218952478,\n",
       " 29: 0.15011857186115313,\n",
       " 30: 0.059206474916778586,\n",
       " 31: 0.134960819262328,\n",
       " 32: 0.05705244054116567,\n",
       " 33: 0.07557941348827225}"
      ]
     },
     "execution_count": 16,
     "metadata": {},
     "output_type": "execute_result"
    }
   ],
   "source": [
    "nx.eigenvector_centrality_numpy(G_zachary)"
   ]
  },
  {
   "cell_type": "code",
   "execution_count": 17,
   "metadata": {},
   "outputs": [
    {
     "data": {
      "image/png": "[encoded data removed]",
      "text/plain": [
       "<Figure size 432x288 with 1 Axes>"
      ]
     },
     "metadata": {},
     "output_type": "display_data"
    }
   ],
   "source": [
    "ec = nx.eigenvector_centrality_numpy(G_zachary)\n",
    "nx.draw(G_zachary, node_color = list(ec.values()), with_labels = True)"
   ]
  },
  {
   "cell_type": "markdown",
   "metadata": {},
   "source": [
    "You can refer to networkx website for more relevant functions to calculate centrality.\n",
    "\n",
    "https://networkx.github.io/documentation/networkx-1.10/reference/algorithms.centrality.html"
   ]
  },
  {
   "cell_type": "markdown",
   "metadata": {},
   "source": [
    "# Part 3: Page Rank Calculation (Similar to 4.6)\n",
    "\n",
    "### Exercise: (a) We read the page rank network from the file 'page_rank_network.txt' and create an adjacency matrix accordingly."
   ]
  },
  {
   "cell_type": "code",
   "execution_count": 18,
   "metadata": {},
   "outputs": [
    {
     "name": "stdout",
     "output_type": "stream",
     "text": [
      "a b\n",
      "b a\n",
      "b e\n",
      "e b\n",
      "e c\n",
      "e d\n",
      "c b\n",
      "c e\n",
      "d b\n",
      "d e\n"
     ]
    }
   ],
   "source": [
    "# Use fixed-point instead of floating point in numpy\n",
    "#np.set_printoptions(suppress = True)\n",
    "\n",
    "# Read an un-directed graph from a list of edges\n",
    "G = nx.read_edgelist(place_holder + \"page_rank_network.txt\", nodetype = str, create_using = nx.DiGraph())\n",
    "\n",
    "# output the edgelist onto the screen\n",
    "nx.write_weighted_edgelist(G, sys.stdout)"
   ]
  },
  {
   "cell_type": "code",
   "execution_count": 20,
   "metadata": {},
   "outputs": [
    {
     "data": {
      "image/png": "[encoded data removed]",
      "text/plain": [
       "<Figure size 432x288 with 1 Axes>"
      ]
     },
     "metadata": {},
     "output_type": "display_data"
    }
   ],
   "source": [
    "nx.draw(G,with_labels = True)"
   ]
  },
  {
   "cell_type": "code",
   "execution_count": 21,
   "metadata": {},
   "outputs": [
    {
     "data": {
      "text/plain": [
       "NodeView(('a', 'b', 'e', 'c', 'd'))"
      ]
     },
     "execution_count": 21,
     "metadata": {},
     "output_type": "execute_result"
    }
   ],
   "source": [
    "G.nodes()"
   ]
  },
  {
   "cell_type": "code",
   "execution_count": 22,
   "metadata": {},
   "outputs": [
    {
     "data": {
      "image/png": "[encoded data removed]",
      "text/plain": [
       "<Figure size 432x288 with 1 Axes>"
      ]
     },
     "metadata": {},
     "output_type": "display_data"
    }
   ],
   "source": [
    "H = nx.DiGraph()\n",
    "H.add_nodes_from(sorted(G.nodes(data = True)))\n",
    "H.add_edges_from(G.edges(data = True))\n",
    "\n",
    "G = H\n",
    "\n",
    "nx.draw(G, with_labels = True)"
   ]
  },
  {
   "cell_type": "code",
   "execution_count": 23,
   "metadata": {},
   "outputs": [
    {
     "data": {
      "text/plain": [
       "NodeView(('a', 'b', 'c', 'd', 'e'))"
      ]
     },
     "execution_count": 23,
     "metadata": {},
     "output_type": "execute_result"
    }
   ],
   "source": [
    "G.nodes()"
   ]
  },
  {
   "cell_type": "code",
   "execution_count": 24,
   "metadata": {},
   "outputs": [
    {
     "name": "stdout",
     "output_type": "stream",
     "text": [
      "[[0. 1. 0. 0. 0.]\n",
      " [1. 0. 0. 0. 1.]\n",
      " [0. 1. 0. 0. 1.]\n",
      " [0. 1. 0. 0. 1.]\n",
      " [0. 1. 1. 1. 0.]]\n"
     ]
    }
   ],
   "source": [
    "# create an adjacency matrix based on the un-directed graph\n",
    "attr_mat = nx.attr_matrix(G,rc_order = sorted(G.nodes(), key=str))\n",
    "print(attr_mat)"
   ]
  },
  {
   "cell_type": "markdown",
   "metadata": {},
   "source": [
    "### Exercise: (b) Calculate the stochastic matrix and its transpose."
   ]
  },
  {
   "cell_type": "code",
   "execution_count": 25,
   "metadata": {},
   "outputs": [
    {
     "name": "stdout",
     "output_type": "stream",
     "text": [
      "The Weight matrix\n",
      "[[0.         1.         0.         0.         0.        ]\n",
      " [0.5        0.         0.         0.         0.5       ]\n",
      " [0.         0.5        0.         0.         0.5       ]\n",
      " [0.         0.5        0.         0.         0.5       ]\n",
      " [0.         0.33333333 0.33333333 0.33333333 0.        ]]\n",
      "\n",
      "\n",
      "The transpose of the Weight matrix\n",
      "[[0.         0.5        0.         0.         0.        ]\n",
      " [1.         0.         0.5        0.5        0.33333333]\n",
      " [0.         0.         0.         0.         0.33333333]\n",
      " [0.         0.         0.         0.         0.33333333]\n",
      " [0.         0.5        0.5        0.5        0.        ]]\n"
     ]
    }
   ],
   "source": [
    "# get the weight matrix (stochastic matrices) W, axis = 1 says \"get the sum along the columns\"\n",
    "weight_mat = attr_mat / attr_mat.sum(axis = 1)\n",
    "print(\"The Weight matrix\")\n",
    "print(weight_mat)\n",
    "\n",
    "# print an extra line for easier display\n",
    "print('\\n')\n",
    "\n",
    "print(\"The transpose of the Weight matrix\")\n",
    "print(weight_mat.T)"
   ]
  },
  {
   "cell_type": "code",
   "execution_count": 27,
   "metadata": {},
   "outputs": [
    {
     "data": {
      "text/plain": [
       "matrix([[0.        , 1.        , 0.        , 0.        , 0.        ],\n",
       "        [0.5       , 0.        , 0.        , 0.        , 0.5       ],\n",
       "        [0.        , 0.5       , 0.        , 0.        , 0.5       ],\n",
       "        [0.        , 0.5       , 0.        , 0.        , 0.5       ],\n",
       "        [0.        , 0.33333333, 0.33333333, 0.33333333, 0.        ]])"
      ]
     },
     "execution_count": 27,
     "metadata": {},
     "output_type": "execute_result"
    }
   ],
   "source": [
    "transition_matrix = nx.google_matrix(G, alpha = 1)\n",
    "transition_matrix"
   ]
  },
  {
   "cell_type": "code",
   "execution_count": 28,
   "metadata": {},
   "outputs": [
    {
     "data": {
      "text/plain": [
       "array([1.+0.j])"
      ]
     },
     "execution_count": 28,
     "metadata": {},
     "output_type": "execute_result"
    }
   ],
   "source": [
    "from scipy.sparse.linalg import eigs\n",
    "evalue, evec = eigs(transition_matrix.T, k=1, which='LM')\n",
    "evalue"
   ]
  },
  {
   "cell_type": "code",
   "execution_count": 29,
   "metadata": {},
   "outputs": [
    {
     "data": {
      "text/plain": [
       "array([[0.18181818],\n",
       "       [0.36363636],\n",
       "       [0.09090909],\n",
       "       [0.09090909],\n",
       "       [0.27272727]])"
      ]
     },
     "execution_count": 29,
     "metadata": {},
     "output_type": "execute_result"
    }
   ],
   "source": [
    "abs(evec)/abs(evec).sum()"
   ]
  },
  {
   "cell_type": "markdown",
   "metadata": {},
   "source": [
    "### Exercise: (c) Calcuate the eigen-vector using power method."
   ]
  },
  {
   "cell_type": "markdown",
   "metadata": {},
   "source": [
    "First, we create and initalize a starting vector for it to iterate on."
   ]
  },
  {
   "cell_type": "code",
   "execution_count": 35,
   "metadata": {},
   "outputs": [
    {
     "name": "stdout",
     "output_type": "stream",
     "text": [
      "The starting vector\n",
      "[[0.2]\n",
      " [0.2]\n",
      " [0.2]\n",
      " [0.2]\n",
      " [0.2]]\n"
     ]
    }
   ],
   "source": [
    "# Create a vector of given shape/dimension, filled with ones,\n",
    "# then we multiply the the vector with 100\n",
    "num_row = attr_mat.shape[0]\n",
    "\n",
    "# fill with one in a column vector\n",
    "r = np.ones((num_row,1)) /num_row\n",
    "\n",
    "print(\"The starting vector\")\n",
    "print(r)"
   ]
  },
  {
   "cell_type": "markdown",
   "metadata": {},
   "source": [
    "Next, we use a while loop to implement power method that calculates page rank for directed graph. \n",
    "\n",
    "Basically, we want calculate r_(k+1)=transpose(W) x r_(k) 􏰆until is result is converged. We write the power method with a function."
   ]
  },
  {
   "cell_type": "code",
   "execution_count": 36,
   "metadata": {},
   "outputs": [
    {
     "name": "stdout",
     "output_type": "stream",
     "text": [
      "The number of iteration needed: 25\n",
      "The converged r\n",
      "[[0.18183091]\n",
      " [0.36362149]\n",
      " [0.09089284]\n",
      " [0.09089284]\n",
      " [0.27276193]]\n"
     ]
    }
   ],
   "source": [
    "# Import linalg for Linear algebra\n",
    "from scipy import linalg\n",
    "\n",
    "\"\"\"\n",
    "This function implements power method.\n",
    "\n",
    "Args:\n",
    "    weight_mat: The weight matrix.\n",
    "    r: The starting vector.\n",
    "\n",
    "Returns:\n",
    "    Null\n",
    "\"\"\"\n",
    "\n",
    "def power_method(weight_mat, r):\n",
    "\n",
    "    # Initalize the boolean converged\n",
    "    converged = False\n",
    "\n",
    "    # Mark the number of iteration as zero at the begining\n",
    "    numIter = 0\n",
    "\n",
    "    while not converged:\n",
    "\n",
    "        # calculate transpose(W) . r_(k)\n",
    "        r_new = (weight_mat.T).dot(r)\n",
    "\n",
    "        # Calculate the different between the previous r and the r from this iteration\n",
    "        # by taking the norm\n",
    "        if (linalg.norm(r-r_new) < 0.0001):\n",
    "            converged = True\n",
    "        else:\n",
    "            numIter += 1\n",
    "            r = r_new\n",
    "\n",
    "    print(\"The number of iteration needed: \", end = '')\n",
    "    print(numIter)\n",
    "\n",
    "    print(\"The converged r\")\n",
    "    print(r)\n",
    "    \n",
    "    return r\n",
    "    \n",
    "r = power_method(weight_mat, r)"
   ]
  },
  {
   "cell_type": "code",
   "execution_count": 37,
   "metadata": {},
   "outputs": [
    {
     "data": {
      "text/plain": [
       "matrix([[0.18183091],\n",
       "        [0.36362149],\n",
       "        [0.09089284],\n",
       "        [0.09089284],\n",
       "        [0.27276193]])"
      ]
     },
     "execution_count": 37,
     "metadata": {},
     "output_type": "execute_result"
    }
   ],
   "source": [
    "r/ r.sum()"
   ]
  },
  {
   "cell_type": "code",
   "execution_count": 39,
   "metadata": {},
   "outputs": [
    {
     "data": {
      "text/plain": [
       "{'a': 0.17685715941894684,\n",
       " 'b': 0.34554556392580793,\n",
       " 'c': 0.10552265230424038,\n",
       " 'd': 0.10552265230424038,\n",
       " 'e': 0.26655197204676434}"
      ]
     },
     "execution_count": 39,
     "metadata": {},
     "output_type": "execute_result"
    }
   ],
   "source": [
    "page_rank = nx.pagerank(G, alpha = 0.85)\n",
    "page_rank"
   ]
  },
  {
   "cell_type": "code",
   "execution_count": null,
   "metadata": {},
   "outputs": [],
   "source": []
  }
 ],
 "metadata": {
  "kernelspec": {
   "display_name": "Python 3",
   "language": "python",
   "name": "python3"
  },
  "language_info": {
   "codemirror_mode": {
    "name": "ipython",
    "version": 3
   },
   "file_extension": ".py",
   "mimetype": "text/x-python",
   "name": "python",
   "nbconvert_exporter": "python",
   "pygments_lexer": "ipython3",
   "version": "3.7.1"
  }
 },
 "nbformat": 4,
 "nbformat_minor": 2
}
