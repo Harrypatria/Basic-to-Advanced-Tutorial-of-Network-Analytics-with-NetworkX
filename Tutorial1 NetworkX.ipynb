{
 "cells": [
  {
   "cell_type": "markdown",
   "metadata": {},
   "source": [
    "This tutorial gives you an idea of Networkx and other useful libraries. Basically, it is composed of three different examples which involve loading graphs and data structures.\n",
    "\n",
    "Before the start of writing any codes, it is important to load the approiate libraries with the following commands. Note that libraries loading must be placed at the top."
   ]
  },
  {
   "cell_type": "code",
   "execution_count": null,
   "metadata": {},
   "outputs": [],
   "source": [
    "# Import networkx library and rename it as nx. \n",
    "import ### insert here ###\n",
    "\n",
    "# Adding support for large, multi-dimensional arrays and matrices.\n",
    "import numpy as np\n",
    "\n",
    "import sys\n",
    "import matplotlib.pyplot as plt"
   ]
  },
  {
   "cell_type": "markdown",
   "metadata": {},
   "source": [
    "# Part 1: File Input/output\n",
    "\n",
    "### Example I: Loading an undirected graph from a data file and display the information. \n",
    "\n",
    "The data file is called \"edgelist1.txt\"."
   ]
  },
  {
   "cell_type": "code",
   "execution_count": null,
   "metadata": {},
   "outputs": [],
   "source": [
    "# Put the path of the folder that contains the data file. \n",
    "# As we put the data file in the same directory, \"./\" is good enough.\n",
    "# You can also put a hard-coded link as well.\n",
    "\n",
    "place_holder = ### insert here ###"
   ]
  },
  {
   "cell_type": "markdown",
   "metadata": {},
   "source": [
    "After getting the place-holder for the data file, we can construct the graph using the Networkx library.\n",
    "The result will be printed on the screen and written to the file \"edgelist1_out.txt\"."
   ]
  },
  {
   "cell_type": "code",
   "execution_count": null,
   "metadata": {},
   "outputs": [],
   "source": [
    "# Create an empty graph structure with no nodes and no edges.\n",
    "G0 = nx.Graph()\n",
    "# Read an un-directed graph from a list of edges\n",
    "G0 = ### insert here ###\n",
    "\n"
   ]
  },
  {
   "cell_type": "code",
   "execution_count": null,
   "metadata": {},
   "outputs": [],
   "source": [
    "# check if read correctly, write graph G as a list of edges with numeric weights to terminal and a file.\n",
    "print(\"Printing G0\")\n",
    "\n",
    "# Print the graph information\n",
    "### insert here ###"
   ]
  },
  {
   "cell_type": "code",
   "execution_count": null,
   "metadata": {},
   "outputs": [],
   "source": [
    "# write the graph information in an output file\n",
    "nx.write_weighted_edgelist(### insert here ###)"
   ]
  },
  {
   "cell_type": "markdown",
   "metadata": {},
   "source": [
    "### Exercise I: Directed graph. \n",
    "\n",
    "We use the same file \"edgelist1.txt\". An edge from a to b with a weight W exists when a line \"a b W\" can be found in the file.\n",
    "\n",
    "The result will also be printed on the screen and written to the file \"edgelist2_out.txt\"."
   ]
  },
  {
   "cell_type": "code",
   "execution_count": null,
   "metadata": {},
   "outputs": [],
   "source": [
    "G1 = nx.DiGraph()\n",
    "\n",
    "# Read an directed graph from a list of edges, need to specify that using the parameter ‘create_using’\n",
    "G1 = ### insert here ###\n",
    "\n",
    "print(\"Printing G1\")\n",
    "print(G1.edges(data=True))\n",
    "nx.write_weighted_edgelist(G1, place_holder + \"edgelist2_out.txt\")"
   ]
  },
  {
   "cell_type": "markdown",
   "metadata": {},
   "source": [
    "### Exercise II: Directed graph with weight on nodes. \n",
    "\n",
    "We use the same file as the input in this example. However, the weight information within the file refers to the weight on the edges. \n",
    "\n",
    "We hard code the weight for the nodes in this example."
   ]
  },
  {
   "cell_type": "code",
   "execution_count": null,
   "metadata": {},
   "outputs": [],
   "source": [
    "G2 = nx.DiGraph()\n",
    "\n",
    "# Read an directed graph from a list of edges\n",
    "G2 = ### insert here ###\n",
    "\n",
    "\n",
    "# Adding weight to certain nodes\n",
    "### insert here ###\n",
    "\n",
    "print(\"Printing G3\")\n",
    "print(G2.edges(data=True))\n",
    "\n",
    "# Printing extra information about the node info.\n",
    "print(list(G2.nodes.data()))"
   ]
  },
  {
   "cell_type": "markdown",
   "metadata": {},
   "source": [
    "# Part 2: Matrix representation and visualization.\n",
    "\n",
    "### Example I: Read an adjacency matrix from a file as an undirected graph. Then display the graph using the display subroutine. \n",
    "\n",
    "The file used in this example is 'adjmat1.txt'."
   ]
  },
  {
   "cell_type": "code",
   "execution_count": null,
   "metadata": {},
   "outputs": [],
   "source": [
    "# Read the adjacency matrix from a file and store the weight using int\n",
    "M3_txt = np.loadtxt(place_holder + 'adjmat1.txt')\n",
    "M3 = ### insert here ###\n",
    "\n",
    "# convert the matrix into a graph\n",
    "G3 = ### insert here ###\n",
    "\n",
    "# Print the graph information\n",
    "print(\"Printing G3\")\n",
    "print(G3.edges(data=True))\n",
    "\n",
    "# use basic drawing function\n",
    "### insert here ###"
   ]
  },
  {
   "cell_type": "code",
   "execution_count": null,
   "metadata": {},
   "outputs": [],
   "source": [
    "# Display subroutine\n",
    "def display(place_holder, nx_graph, nx_graph_str):\n",
    "\n",
    "    plt.subplots(figsize=(5, 5))\n",
    "    nx.draw_spring(nx_graph, with_labels = True, node_color='skyblue', node_size=200, \\\n",
    "                   edge_color='black')\n",
    "    \n",
    "    fig = plt.gcf()\n",
    "    plt.show()\n",
    "    fig.savefig(place_holder + nx_graph_str + '.jpg')"
   ]
  },
  {
   "cell_type": "code",
   "execution_count": null,
   "metadata": {},
   "outputs": [],
   "source": [
    "# Display using a visualization routine and write to disk as jpg\n",
    "### insert here ###"
   ]
  },
  {
   "cell_type": "markdown",
   "metadata": {},
   "source": [
    "### Exercise I: Read an adjacency matrix from a file as a directed graph. \n",
    "\n",
    "The file used in this example is 'adjmat2.txt'."
   ]
  },
  {
   "cell_type": "code",
   "execution_count": null,
   "metadata": {},
   "outputs": [],
   "source": [
    "M4_txt = np.loadtxt(place_holder + 'adjmat2.txt')\n",
    "M4 = ### insert here ###\n",
    "\n",
    "# convert the matrix into a graph\n",
    "G4 = ### insert here ###\n",
    "\n",
    "# Print the graph information\n",
    "print(\"Printing G4\")\n",
    "print(G4.edges(data=True))\n",
    "### insert here ###"
   ]
  },
  {
   "cell_type": "markdown",
   "metadata": {},
   "source": [
    "### Exercise II: Change the visualization."
   ]
  },
  {
   "cell_type": "code",
   "execution_count": null,
   "metadata": {},
   "outputs": [],
   "source": [
    "# Make the plot bigger\n",
    "plt.subplots(figsize = (10, 10))\n",
    "\n",
    "# draw a circular layout, get the nodes bigger and change the node color\n",
    "### insert here ###\n",
    "\n",
    "# add title\n",
    "plt.title('Circular Layout',  fontsize = 20)\n",
    "plt.show()\n"
   ]
  },
  {
   "cell_type": "markdown",
   "metadata": {},
   "source": [
    "### Additional Exercise: Adjust the size of the nodes based on the outward degrees.\n",
    "\n",
    "Assume that each node has at least one outgoing edge."
   ]
  },
  {
   "cell_type": "code",
   "execution_count": null,
   "metadata": {},
   "outputs": [],
   "source": [
    "# get the outward degree for each node and store them as a list of (node_number, degree)\n",
    "out_deg = G4.out_degree()\n",
    "\n",
    "# Multiply the node degree to 1000 as the node size \n",
    "### insert here ###\n",
    "\n",
    "\n",
    "print(out_deg)\n",
    "\n",
    "# create the plot and title\n",
    "plt.subplots(figsize = (10, 10))\n",
    "plt.title(\"Filtered Layout\", fontsize = 20)\n",
    "\n",
    "### insert here ###\n"
   ]
  },
  {
   "cell_type": "markdown",
   "metadata": {},
   "source": [
    "# Other interesting commands"
   ]
  },
  {
   "cell_type": "code",
   "execution_count": null,
   "metadata": {},
   "outputs": [],
   "source": [
    "# construct inbuilt graphs\n",
    "\n",
    "### insert here ###"
   ]
  },
  {
   "cell_type": "code",
   "execution_count": null,
   "metadata": {},
   "outputs": [],
   "source": []
  },
  {
   "cell_type": "code",
   "execution_count": null,
   "metadata": {},
   "outputs": [],
   "source": []
  },
  {
   "cell_type": "code",
   "execution_count": null,
   "metadata": {},
   "outputs": [],
   "source": []
  }
 ],
 "metadata": {
  "kernelspec": {
   "display_name": "Python 3 (ipykernel)",
   "language": "python",
   "name": "python3"
  },
  "language_info": {
   "codemirror_mode": {
    "name": "ipython",
    "version": 3
   },
   "file_extension": ".py",
   "mimetype": "text/x-python",
   "name": "python",
   "nbconvert_exporter": "python",
   "pygments_lexer": "ipython3",
   "version": "3.9.12"
  }
 },
 "nbformat": 4,
 "nbformat_minor": 2
}
